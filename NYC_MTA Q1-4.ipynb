{
 "cells": [
  {
   "cell_type": "code",
   "execution_count": 3,
   "metadata": {
    "collapsed": false
   },
   "outputs": [],
   "source": [
    "from glob import glob\n",
    "import pandas as pd\n",
    "import numpy as np\n",
    "import matplotlib.pyplot as plt\n",
    "import matplotlib\n",
    "import seaborn as sns\n",
    "from datetime import datetime\n",
    "import csv\n",
    "%matplotlib inline"
   ]
  },
  {
   "cell_type": "markdown",
   "metadata": {},
   "source": [
    "### Load and format data"
   ]
  },
  {
   "cell_type": "code",
   "execution_count": 4,
   "metadata": {
    "collapsed": false
   },
   "outputs": [
    {
     "data": {
      "text/plain": [
       "['./turnstile_130706.txt',\n",
       " './turnstile_130713.txt',\n",
       " './turnstile_130720.txt',\n",
       " './turnstile_130727.txt',\n",
       " './turnstile_130803.txt']"
      ]
     },
     "execution_count": 4,
     "metadata": {},
     "output_type": "execute_result"
    }
   ],
   "source": [
    "files = glob('./july/*.txt')\n",
    "data = []\n",
    "for file in files:\n",
    "    with open(file,'rt') as f:\n",
    "        reader = csv.reader((line.replace('\\0','') for line in f),delimiter = ',', quotechar = '\"')\n",
    "        data += [row for row in reader]"
   ]
  },
  {
   "cell_type": "code",
   "execution_count": 34,
   "metadata": {
    "collapsed": false
   },
   "outputs": [],
   "source": [
    "locs = {}\n",
    "for d in data:\n",
    "    location = d[0]+' '+d[1]+' '+d[2]\n",
    "    if location not in locs:\n",
    "        locs[location] = d[3:]\n",
    "    for n in d[3:]:\n",
    "        locs[location].append(n)"
   ]
  },
  {
   "cell_type": "code",
   "execution_count": 38,
   "metadata": {
    "collapsed": false
   },
   "outputs": [],
   "source": [
    "df = pd.DataFrame()\n",
    "for loc in list(locs.keys()):\n",
    "    d = pd.DataFrame(np.array(locs[loc]).reshape(-1,5),columns = ['date','time','disc','entries','exits'])\n",
    "    d['location'] = loc\n",
    "    d = d.drop_duplicates()\n",
    "    d[['entries','exits']] = d[['entries','exits']].apply(pd.to_numeric)\n",
    "    d['datetime'] = d['date']+' '+d['time']\n",
    "    f = '%m-%d-%y %H:%M:%S'\n",
    "    d['dt'] = d['datetime'].apply(lambda x: datetime.strptime(x,f))\n",
    "    d=d.sort_values(by = 'datetime')\n",
    "    d['entries_change'] = d['entries'].diff(+1)\n",
    "    d['exits_change'] = d['exits'].diff(+1)\n",
    "    df=df.append(d)"
   ]
  },
  {
   "cell_type": "code",
   "execution_count": 1,
   "metadata": {
    "collapsed": false
   },
   "outputs": [],
   "source": [
    "#Save file\n",
    "#df.to_csv('july_data.csv', index = False)"
   ]
  },
  {
   "cell_type": "code",
   "execution_count": 282,
   "metadata": {
    "collapsed": false
   },
   "outputs": [
    {
     "data": {
      "text/html": [
       "<div>\n",
       "<style>\n",
       "    .dataframe thead tr:only-child th {\n",
       "        text-align: right;\n",
       "    }\n",
       "\n",
       "    .dataframe thead th {\n",
       "        text-align: left;\n",
       "    }\n",
       "\n",
       "    .dataframe tbody tr th {\n",
       "        vertical-align: top;\n",
       "    }\n",
       "</style>\n",
       "<table border=\"1\" class=\"dataframe\">\n",
       "  <thead>\n",
       "    <tr style=\"text-align: right;\">\n",
       "      <th></th>\n",
       "      <th>date</th>\n",
       "      <th>time</th>\n",
       "      <th>disc</th>\n",
       "      <th>entries</th>\n",
       "      <th>exits</th>\n",
       "      <th>location</th>\n",
       "      <th>datetime</th>\n",
       "      <th>dt</th>\n",
       "      <th>entries_change</th>\n",
       "      <th>exits_change</th>\n",
       "    </tr>\n",
       "  </thead>\n",
       "  <tbody>\n",
       "    <tr>\n",
       "      <th>0</th>\n",
       "      <td>06-29-13</td>\n",
       "      <td>00:00:00</td>\n",
       "      <td>REGULAR</td>\n",
       "      <td>3775585</td>\n",
       "      <td>4786056</td>\n",
       "      <td>C008 R099 00-00-00</td>\n",
       "      <td>06-29-13 00:00:00</td>\n",
       "      <td>2013-06-29 00:00:00</td>\n",
       "      <td>NaN</td>\n",
       "      <td>NaN</td>\n",
       "    </tr>\n",
       "    <tr>\n",
       "      <th>1</th>\n",
       "      <td>06-29-13</td>\n",
       "      <td>04:00:00</td>\n",
       "      <td>REGULAR</td>\n",
       "      <td>3775645</td>\n",
       "      <td>4786184</td>\n",
       "      <td>C008 R099 00-00-00</td>\n",
       "      <td>06-29-13 04:00:00</td>\n",
       "      <td>2013-06-29 04:00:00</td>\n",
       "      <td>60.0</td>\n",
       "      <td>128.0</td>\n",
       "    </tr>\n",
       "    <tr>\n",
       "      <th>2</th>\n",
       "      <td>06-29-13</td>\n",
       "      <td>04:00:00</td>\n",
       "      <td>RECOVR AUD</td>\n",
       "      <td>3775645</td>\n",
       "      <td>4786184</td>\n",
       "      <td>C008 R099 00-00-00</td>\n",
       "      <td>06-29-13 04:00:00</td>\n",
       "      <td>2013-06-29 04:00:00</td>\n",
       "      <td>0.0</td>\n",
       "      <td>0.0</td>\n",
       "    </tr>\n",
       "    <tr>\n",
       "      <th>3</th>\n",
       "      <td>06-29-13</td>\n",
       "      <td>08:00:00</td>\n",
       "      <td>REGULAR</td>\n",
       "      <td>3775689</td>\n",
       "      <td>4786264</td>\n",
       "      <td>C008 R099 00-00-00</td>\n",
       "      <td>06-29-13 08:00:00</td>\n",
       "      <td>2013-06-29 08:00:00</td>\n",
       "      <td>44.0</td>\n",
       "      <td>80.0</td>\n",
       "    </tr>\n",
       "    <tr>\n",
       "      <th>4</th>\n",
       "      <td>06-29-13</td>\n",
       "      <td>09:15:50</td>\n",
       "      <td>DOOR OPEN</td>\n",
       "      <td>3775722</td>\n",
       "      <td>4786301</td>\n",
       "      <td>C008 R099 00-00-00</td>\n",
       "      <td>06-29-13 09:15:50</td>\n",
       "      <td>2013-06-29 09:15:50</td>\n",
       "      <td>33.0</td>\n",
       "      <td>37.0</td>\n",
       "    </tr>\n",
       "  </tbody>\n",
       "</table>\n",
       "</div>"
      ],
      "text/plain": [
       "       date      time        disc  entries    exits            location  \\\n",
       "0  06-29-13  00:00:00     REGULAR  3775585  4786056  C008 R099 00-00-00   \n",
       "1  06-29-13  04:00:00     REGULAR  3775645  4786184  C008 R099 00-00-00   \n",
       "2  06-29-13  04:00:00  RECOVR AUD  3775645  4786184  C008 R099 00-00-00   \n",
       "3  06-29-13  08:00:00     REGULAR  3775689  4786264  C008 R099 00-00-00   \n",
       "4  06-29-13  09:15:50   DOOR OPEN  3775722  4786301  C008 R099 00-00-00   \n",
       "\n",
       "            datetime                   dt  entries_change  exits_change  \n",
       "0  06-29-13 00:00:00  2013-06-29 00:00:00             NaN           NaN  \n",
       "1  06-29-13 04:00:00  2013-06-29 04:00:00            60.0         128.0  \n",
       "2  06-29-13 04:00:00  2013-06-29 04:00:00             0.0           0.0  \n",
       "3  06-29-13 08:00:00  2013-06-29 08:00:00            44.0          80.0  \n",
       "4  06-29-13 09:15:50  2013-06-29 09:15:50            33.0          37.0  "
      ]
     },
     "execution_count": 282,
     "metadata": {},
     "output_type": "execute_result"
    }
   ],
   "source": [
    "df = pd.read_csv('july_data.csv')\n",
    "df.head()"
   ]
  },
  {
   "cell_type": "markdown",
   "metadata": {},
   "source": [
    "#### Merge with Station codes"
   ]
  },
  {
   "cell_type": "code",
   "execution_count": 182,
   "metadata": {
    "collapsed": false
   },
   "outputs": [
    {
     "data": {
      "text/html": [
       "<div>\n",
       "<style>\n",
       "    .dataframe thead tr:only-child th {\n",
       "        text-align: right;\n",
       "    }\n",
       "\n",
       "    .dataframe thead th {\n",
       "        text-align: left;\n",
       "    }\n",
       "\n",
       "    .dataframe tbody tr th {\n",
       "        vertical-align: top;\n",
       "    }\n",
       "</style>\n",
       "<table border=\"1\" class=\"dataframe\">\n",
       "  <thead>\n",
       "    <tr style=\"text-align: right;\">\n",
       "      <th></th>\n",
       "      <th>date</th>\n",
       "      <th>time</th>\n",
       "      <th>disc</th>\n",
       "      <th>entries</th>\n",
       "      <th>exits</th>\n",
       "      <th>location</th>\n",
       "      <th>datetime</th>\n",
       "      <th>dt</th>\n",
       "      <th>entries_change</th>\n",
       "      <th>exits_change</th>\n",
       "      <th>Booth</th>\n",
       "      <th>Remote</th>\n",
       "      <th>Station</th>\n",
       "      <th>Line Name</th>\n",
       "      <th>Division</th>\n",
       "    </tr>\n",
       "  </thead>\n",
       "  <tbody>\n",
       "    <tr>\n",
       "      <th>0</th>\n",
       "      <td>06-29-13</td>\n",
       "      <td>00:00:00</td>\n",
       "      <td>REGULAR</td>\n",
       "      <td>3775585</td>\n",
       "      <td>4786056</td>\n",
       "      <td>C008 R099 00-00-00</td>\n",
       "      <td>06-29-13 00:00:00</td>\n",
       "      <td>2013-06-29 00:00:00</td>\n",
       "      <td>NaN</td>\n",
       "      <td>NaN</td>\n",
       "      <td>C008</td>\n",
       "      <td>R099</td>\n",
       "      <td>DEKALB AVE</td>\n",
       "      <td>BDNQR</td>\n",
       "      <td>BMT</td>\n",
       "    </tr>\n",
       "    <tr>\n",
       "      <th>1</th>\n",
       "      <td>06-29-13</td>\n",
       "      <td>04:00:00</td>\n",
       "      <td>REGULAR</td>\n",
       "      <td>3775645</td>\n",
       "      <td>4786184</td>\n",
       "      <td>C008 R099 00-00-00</td>\n",
       "      <td>06-29-13 04:00:00</td>\n",
       "      <td>2013-06-29 04:00:00</td>\n",
       "      <td>60.0</td>\n",
       "      <td>128.0</td>\n",
       "      <td>C008</td>\n",
       "      <td>R099</td>\n",
       "      <td>DEKALB AVE</td>\n",
       "      <td>BDNQR</td>\n",
       "      <td>BMT</td>\n",
       "    </tr>\n",
       "    <tr>\n",
       "      <th>2</th>\n",
       "      <td>06-29-13</td>\n",
       "      <td>04:00:00</td>\n",
       "      <td>RECOVR AUD</td>\n",
       "      <td>3775645</td>\n",
       "      <td>4786184</td>\n",
       "      <td>C008 R099 00-00-00</td>\n",
       "      <td>06-29-13 04:00:00</td>\n",
       "      <td>2013-06-29 04:00:00</td>\n",
       "      <td>0.0</td>\n",
       "      <td>0.0</td>\n",
       "      <td>C008</td>\n",
       "      <td>R099</td>\n",
       "      <td>DEKALB AVE</td>\n",
       "      <td>BDNQR</td>\n",
       "      <td>BMT</td>\n",
       "    </tr>\n",
       "    <tr>\n",
       "      <th>3</th>\n",
       "      <td>06-29-13</td>\n",
       "      <td>08:00:00</td>\n",
       "      <td>REGULAR</td>\n",
       "      <td>3775689</td>\n",
       "      <td>4786264</td>\n",
       "      <td>C008 R099 00-00-00</td>\n",
       "      <td>06-29-13 08:00:00</td>\n",
       "      <td>2013-06-29 08:00:00</td>\n",
       "      <td>44.0</td>\n",
       "      <td>80.0</td>\n",
       "      <td>C008</td>\n",
       "      <td>R099</td>\n",
       "      <td>DEKALB AVE</td>\n",
       "      <td>BDNQR</td>\n",
       "      <td>BMT</td>\n",
       "    </tr>\n",
       "    <tr>\n",
       "      <th>4</th>\n",
       "      <td>06-29-13</td>\n",
       "      <td>09:15:50</td>\n",
       "      <td>DOOR OPEN</td>\n",
       "      <td>3775722</td>\n",
       "      <td>4786301</td>\n",
       "      <td>C008 R099 00-00-00</td>\n",
       "      <td>06-29-13 09:15:50</td>\n",
       "      <td>2013-06-29 09:15:50</td>\n",
       "      <td>33.0</td>\n",
       "      <td>37.0</td>\n",
       "      <td>C008</td>\n",
       "      <td>R099</td>\n",
       "      <td>DEKALB AVE</td>\n",
       "      <td>BDNQR</td>\n",
       "      <td>BMT</td>\n",
       "    </tr>\n",
       "  </tbody>\n",
       "</table>\n",
       "</div>"
      ],
      "text/plain": [
       "       date      time        disc  entries    exits            location  \\\n",
       "0  06-29-13  00:00:00     REGULAR  3775585  4786056  C008 R099 00-00-00   \n",
       "1  06-29-13  04:00:00     REGULAR  3775645  4786184  C008 R099 00-00-00   \n",
       "2  06-29-13  04:00:00  RECOVR AUD  3775645  4786184  C008 R099 00-00-00   \n",
       "3  06-29-13  08:00:00     REGULAR  3775689  4786264  C008 R099 00-00-00   \n",
       "4  06-29-13  09:15:50   DOOR OPEN  3775722  4786301  C008 R099 00-00-00   \n",
       "\n",
       "            datetime                   dt  entries_change  exits_change Booth  \\\n",
       "0  06-29-13 00:00:00  2013-06-29 00:00:00             NaN           NaN  C008   \n",
       "1  06-29-13 04:00:00  2013-06-29 04:00:00            60.0         128.0  C008   \n",
       "2  06-29-13 04:00:00  2013-06-29 04:00:00             0.0           0.0  C008   \n",
       "3  06-29-13 08:00:00  2013-06-29 08:00:00            44.0          80.0  C008   \n",
       "4  06-29-13 09:15:50  2013-06-29 09:15:50            33.0          37.0  C008   \n",
       "\n",
       "  Remote     Station Line Name Division  \n",
       "0   R099  DEKALB AVE     BDNQR      BMT  \n",
       "1   R099  DEKALB AVE     BDNQR      BMT  \n",
       "2   R099  DEKALB AVE     BDNQR      BMT  \n",
       "3   R099  DEKALB AVE     BDNQR      BMT  \n",
       "4   R099  DEKALB AVE     BDNQR      BMT  "
      ]
     },
     "execution_count": 182,
     "metadata": {},
     "output_type": "execute_result"
    }
   ],
   "source": [
    "#add station info\n",
    "df['Booth'] = df['location'].apply(lambda x : x.split(' ')[0])\n",
    "df['Remote'] = df['location'].apply(lambda x:x.split(' ')[1])\n",
    "code_map = pd.read_csv('Remote-Booth-Station.csv')\n",
    "df_merge = pd.merge(df,code_map,on = ['Remote','Booth'])\n",
    "df_merge.head()"
   ]
  },
  {
   "cell_type": "code",
   "execution_count": 103,
   "metadata": {
    "collapsed": false
   },
   "outputs": [],
   "source": [
    "#Save\n",
    "#df_merge.to_csv('july_data_station.csv',index=False)"
   ]
  },
  {
   "cell_type": "code",
   "execution_count": 4,
   "metadata": {
    "collapsed": false
   },
   "outputs": [
    {
     "name": "stderr",
     "output_type": "stream",
     "text": [
      "//anaconda/lib/python3.5/site-packages/IPython/core/interactiveshell.py:2723: DtypeWarning: Columns (14) have mixed types. Specify dtype option on import or set low_memory=False.\n",
      "  interactivity=interactivity, compiler=compiler, result=result)\n"
     ]
    },
    {
     "data": {
      "text/html": [
       "<div>\n",
       "<style>\n",
       "    .dataframe thead tr:only-child th {\n",
       "        text-align: right;\n",
       "    }\n",
       "\n",
       "    .dataframe thead th {\n",
       "        text-align: left;\n",
       "    }\n",
       "\n",
       "    .dataframe tbody tr th {\n",
       "        vertical-align: top;\n",
       "    }\n",
       "</style>\n",
       "<table border=\"1\" class=\"dataframe\">\n",
       "  <thead>\n",
       "    <tr style=\"text-align: right;\">\n",
       "      <th></th>\n",
       "      <th>dt</th>\n",
       "      <th>entries</th>\n",
       "      <th>exits</th>\n",
       "      <th>entries_change</th>\n",
       "      <th>exits_change</th>\n",
       "      <th>busyness</th>\n",
       "    </tr>\n",
       "  </thead>\n",
       "  <tbody>\n",
       "    <tr>\n",
       "      <th>0</th>\n",
       "      <td>2013-06-29 00:00:00</td>\n",
       "      <td>14055198997</td>\n",
       "      <td>7474963985</td>\n",
       "      <td>0.0</td>\n",
       "      <td>0.0</td>\n",
       "      <td>0.0</td>\n",
       "    </tr>\n",
       "    <tr>\n",
       "      <th>1</th>\n",
       "      <td>2013-06-29 00:00:39</td>\n",
       "      <td>819</td>\n",
       "      <td>16429</td>\n",
       "      <td>NaN</td>\n",
       "      <td>NaN</td>\n",
       "      <td>NaN</td>\n",
       "    </tr>\n",
       "    <tr>\n",
       "      <th>2</th>\n",
       "      <td>2013-06-29 00:01:02</td>\n",
       "      <td>53737</td>\n",
       "      <td>98766</td>\n",
       "      <td>NaN</td>\n",
       "      <td>NaN</td>\n",
       "      <td>NaN</td>\n",
       "    </tr>\n",
       "    <tr>\n",
       "      <th>3</th>\n",
       "      <td>2013-06-29 00:01:44</td>\n",
       "      <td>150350</td>\n",
       "      <td>265233</td>\n",
       "      <td>NaN</td>\n",
       "      <td>NaN</td>\n",
       "      <td>NaN</td>\n",
       "    </tr>\n",
       "    <tr>\n",
       "      <th>4</th>\n",
       "      <td>2013-06-29 00:01:55</td>\n",
       "      <td>65330</td>\n",
       "      <td>154888</td>\n",
       "      <td>NaN</td>\n",
       "      <td>NaN</td>\n",
       "      <td>NaN</td>\n",
       "    </tr>\n",
       "  </tbody>\n",
       "</table>\n",
       "</div>"
      ],
      "text/plain": [
       "                    dt      entries       exits  entries_change  exits_change  \\\n",
       "0  2013-06-29 00:00:00  14055198997  7474963985             0.0           0.0   \n",
       "1  2013-06-29 00:00:39          819       16429             NaN           NaN   \n",
       "2  2013-06-29 00:01:02        53737       98766             NaN           NaN   \n",
       "3  2013-06-29 00:01:44       150350      265233             NaN           NaN   \n",
       "4  2013-06-29 00:01:55        65330      154888             NaN           NaN   \n",
       "\n",
       "   busyness  \n",
       "0       0.0  \n",
       "1       NaN  \n",
       "2       NaN  \n",
       "3       NaN  \n",
       "4       NaN  "
      ]
     },
     "execution_count": 4,
     "metadata": {},
     "output_type": "execute_result"
    }
   ],
   "source": [
    "#calculate whole system entries/exits at each time point\n",
    "df_merge = pd.read_csv('july_data_station.csv')\n",
    "df_change = df_merge.groupby('dt').sum().reset_index()\n",
    "df_change.head()"
   ]
  },
  {
   "cell_type": "markdown",
   "metadata": {},
   "source": [
    "## DATA exploration by PLOT  "
   ]
  },
  {
   "cell_type": "code",
   "execution_count": 184,
   "metadata": {
    "collapsed": false
   },
   "outputs": [
    {
     "data": {
      "text/plain": [
       "[<matplotlib.lines.Line2D at 0x1c9874e48>]"
      ]
     },
     "execution_count": 184,
     "metadata": {},
     "output_type": "execute_result"
    },
    {
     "data": {
      "image/png": "[encoded data removed]",
      "text/plain": [
       "<matplotlib.figure.Figure at 0x183cb08d0>"
      ]
     },
     "metadata": {},
     "output_type": "display_data"
    }
   ],
   "source": [
    "#plot data for the month\n",
    "date_time = matplotlib.dates.datestr2num(df_change['dt'].tolist())\n",
    "plt.figure(figsize = (20,8))\n",
    "plt.plot_date(date_time,df_change['entries_change'],'-')\n",
    "plt.plot_date(date_time,df_change['exits_change'],'-')\n",
    "#plt.plot_date(date_time,df_change['busyness'],'-')"
   ]
  },
  {
   "cell_type": "markdown",
   "metadata": {},
   "source": [
    "#### Replace negative values with 0\n",
    "It's not possible to have negative counts, negative value means the odometer got reset.\n",
    "sometimes the odometer also jumps randomly, giving a huge reading.Based on the average ridership below from 2015, counts higher than 1.2M and lower than 0 will be take out.\n",
    "\n",
    "Ridership: In 2015, average weekday subway ridership was 5.7 million, the highest since 1948. Annual ridership was 1.763 billion, also the highest since 1948.(wiki)\n"
   ]
  },
  {
   "cell_type": "code",
   "execution_count": 190,
   "metadata": {
    "collapsed": false
   },
   "outputs": [],
   "source": [
    "#remove outlier\n",
    "df_change.loc[df_change[df_change['entries_change']<0].index,'entries_change']=0\n",
    "df_change.loc[df_change[df_change['exits_change']<0].index,'exits_change'] = 0\n",
    "#df_change.loc[df_change[df_change['busyness']<0].index,'busyness'] = 0\n",
    "df_change.loc[df_change[df_change['entries_change']>1200000].index,'entries_change']=0\n",
    "df_change.loc[df_change[df_change['exits_change']>1200000].index,'exits_change'] = 0\n",
    "#df_change.loc[df_change[df_change['busyness']>4000000].index,'busyness'] = 0"
   ]
  },
  {
   "cell_type": "code",
   "execution_count": 192,
   "metadata": {
    "collapsed": false
   },
   "outputs": [
    {
     "data": {
      "text/plain": [
       "[<matplotlib.lines.Line2D at 0x1b0152f28>]"
      ]
     },
     "execution_count": 192,
     "metadata": {},
     "output_type": "execute_result"
    },
    {
     "data": {
      "image/png": "[encoded data removed]",
      "text/plain": [
       "<matplotlib.figure.Figure at 0x1a8e01080>"
      ]
     },
     "metadata": {},
     "output_type": "display_data"
    }
   ],
   "source": [
    "#plot again with outliers removed\n",
    "date_time = matplotlib.dates.datestr2num(df_change['dt'].tolist())\n",
    "plt.figure(figsize = (20,8))\n",
    "plt.plot_date(date_time,df_change['entries_change'],'-')\n",
    "plt.plot_date(date_time,df_change['exits_change'],'-')\n",
    "#plt.plot_date(date_time,df_change['busyness'],'-')"
   ]
  },
  {
   "cell_type": "markdown",
   "metadata": {},
   "source": [
    "nice periodic pattern!\n",
    "\n",
    "\n",
    "### PLOT Only regular data"
   ]
  },
  {
   "cell_type": "code",
   "execution_count": 193,
   "metadata": {
    "collapsed": false
   },
   "outputs": [
    {
     "data": {
      "text/plain": [
       "(946417, 15)"
      ]
     },
     "execution_count": 193,
     "metadata": {},
     "output_type": "execute_result"
    }
   ],
   "source": [
    "df_regular = df_merge[df_merge['disc'] == 'REGULAR']\n",
    "df_regular.shape"
   ]
  },
  {
   "cell_type": "code",
   "execution_count": 194,
   "metadata": {
    "collapsed": false
   },
   "outputs": [
    {
     "data": {
      "text/html": [
       "<div>\n",
       "<style>\n",
       "    .dataframe thead tr:only-child th {\n",
       "        text-align: right;\n",
       "    }\n",
       "\n",
       "    .dataframe thead th {\n",
       "        text-align: left;\n",
       "    }\n",
       "\n",
       "    .dataframe tbody tr th {\n",
       "        vertical-align: top;\n",
       "    }\n",
       "</style>\n",
       "<table border=\"1\" class=\"dataframe\">\n",
       "  <thead>\n",
       "    <tr style=\"text-align: right;\">\n",
       "      <th></th>\n",
       "      <th>dt</th>\n",
       "      <th>entries</th>\n",
       "      <th>exits</th>\n",
       "      <th>entries_change</th>\n",
       "      <th>exits_change</th>\n",
       "    </tr>\n",
       "  </thead>\n",
       "  <tbody>\n",
       "    <tr>\n",
       "      <th>0</th>\n",
       "      <td>2013-06-29 00:00:00</td>\n",
       "      <td>13838089395</td>\n",
       "      <td>7392609980</td>\n",
       "      <td>0.0</td>\n",
       "      <td>0.0</td>\n",
       "    </tr>\n",
       "    <tr>\n",
       "      <th>1</th>\n",
       "      <td>2013-06-29 00:00:39</td>\n",
       "      <td>819</td>\n",
       "      <td>16429</td>\n",
       "      <td>NaN</td>\n",
       "      <td>NaN</td>\n",
       "    </tr>\n",
       "    <tr>\n",
       "      <th>2</th>\n",
       "      <td>2013-06-29 00:01:02</td>\n",
       "      <td>53737</td>\n",
       "      <td>98766</td>\n",
       "      <td>NaN</td>\n",
       "      <td>NaN</td>\n",
       "    </tr>\n",
       "    <tr>\n",
       "      <th>3</th>\n",
       "      <td>2013-06-29 00:01:44</td>\n",
       "      <td>150350</td>\n",
       "      <td>265233</td>\n",
       "      <td>NaN</td>\n",
       "      <td>NaN</td>\n",
       "    </tr>\n",
       "    <tr>\n",
       "      <th>4</th>\n",
       "      <td>2013-06-29 00:01:55</td>\n",
       "      <td>65330</td>\n",
       "      <td>154888</td>\n",
       "      <td>NaN</td>\n",
       "      <td>NaN</td>\n",
       "    </tr>\n",
       "  </tbody>\n",
       "</table>\n",
       "</div>"
      ],
      "text/plain": [
       "                    dt      entries       exits  entries_change  exits_change\n",
       "0  2013-06-29 00:00:00  13838089395  7392609980             0.0           0.0\n",
       "1  2013-06-29 00:00:39          819       16429             NaN           NaN\n",
       "2  2013-06-29 00:01:02        53737       98766             NaN           NaN\n",
       "3  2013-06-29 00:01:44       150350      265233             NaN           NaN\n",
       "4  2013-06-29 00:01:55        65330      154888             NaN           NaN"
      ]
     },
     "execution_count": 194,
     "metadata": {},
     "output_type": "execute_result"
    }
   ],
   "source": [
    "df_re_change = df_regular.groupby('dt').sum().reset_index()\n",
    "df_re_change.head()"
   ]
  },
  {
   "cell_type": "code",
   "execution_count": 195,
   "metadata": {
    "collapsed": false
   },
   "outputs": [
    {
     "data": {
      "text/plain": [
       "[<matplotlib.lines.Line2D at 0x1b010def0>]"
      ]
     },
     "execution_count": 195,
     "metadata": {},
     "output_type": "execute_result"
    },
    {
     "data": {
      "image/png": "[encoded data removed]",
      "text/plain": [
       "<matplotlib.figure.Figure at 0x1a919ee80>"
      ]
     },
     "metadata": {},
     "output_type": "display_data"
    }
   ],
   "source": [
    "date_time = matplotlib.dates.datestr2num(df_re_change['dt'].tolist())\n",
    "plt.figure(figsize = (20,8))\n",
    "plt.plot_date(date_time,df_re_change['entries_change'],'-')\n",
    "plt.plot_date(date_time,df_re_change['exits_change'],'-')\n",
    "#plt.plot_date(date_time,df_re_change['busyness'],'-')"
   ]
  },
  {
   "cell_type": "code",
   "execution_count": 197,
   "metadata": {
    "collapsed": false
   },
   "outputs": [],
   "source": [
    "#remove outlier\n",
    "df_re_change.fillna(0)\n",
    "df_re_change.loc[df_re_change[df_re_change['entries_change']<0].index,'entries_change']=0\n",
    "df_re_change.loc[df_re_change[df_re_change['exits_change']<0].index,'exits_change'] = 0\n",
    "df_re_change.loc[df_re_change[df_re_change['entries_change']>2000000].index,'entries_change']=0\n",
    "df_re_change.loc[df_re_change[df_re_change['exits_change']>2000000].index,'exits_change'] = 0\n",
    "#df_re_change.loc[df_re_change[df_re_change['busyness']<0].index,'busyness'] = 0\n",
    "#df_re_change.loc[df_re_change[df_re_change['busyness']>2000000].index,'busyness'] = 0"
   ]
  },
  {
   "cell_type": "code",
   "execution_count": 198,
   "metadata": {
    "collapsed": false
   },
   "outputs": [
    {
     "data": {
      "text/plain": [
       "[<matplotlib.lines.Line2D at 0x1ae3cac18>]"
      ]
     },
     "execution_count": 198,
     "metadata": {},
     "output_type": "execute_result"
    },
    {
     "data": {
      "image/png": "[encoded data removed]",
      "text/plain": [
       "<matplotlib.figure.Figure at 0x1b0a0c780>"
      ]
     },
     "metadata": {},
     "output_type": "display_data"
    }
   ],
   "source": [
    "date_time = matplotlib.dates.datestr2num(df_re_change['dt'].tolist())\n",
    "plt.figure(figsize = (20,8))\n",
    "plt.plot_date(date_time,df_re_change['entries_change'],'-')\n",
    "plt.plot_date(date_time,df_re_change['exits_change'],'-')\n",
    "#plt.plot_date(date_time,df_re_change['busyness'],'-')"
   ]
  },
  {
   "cell_type": "code",
   "execution_count": 204,
   "metadata": {
    "collapsed": false
   },
   "outputs": [
    {
     "data": {
      "text/html": [
       "<div>\n",
       "<style>\n",
       "    .dataframe thead tr:only-child th {\n",
       "        text-align: right;\n",
       "    }\n",
       "\n",
       "    .dataframe thead th {\n",
       "        text-align: left;\n",
       "    }\n",
       "\n",
       "    .dataframe tbody tr th {\n",
       "        vertical-align: top;\n",
       "    }\n",
       "</style>\n",
       "<table border=\"1\" class=\"dataframe\">\n",
       "  <thead>\n",
       "    <tr style=\"text-align: right;\">\n",
       "      <th></th>\n",
       "      <th>dt</th>\n",
       "      <th>entries</th>\n",
       "      <th>exits</th>\n",
       "      <th>entries_change</th>\n",
       "      <th>exits_change</th>\n",
       "    </tr>\n",
       "  </thead>\n",
       "  <tbody>\n",
       "    <tr>\n",
       "      <th>0</th>\n",
       "      <td>2013-06-29 00:00:00</td>\n",
       "      <td>14055198997</td>\n",
       "      <td>7474963985</td>\n",
       "      <td>0.0</td>\n",
       "      <td>0.0</td>\n",
       "    </tr>\n",
       "    <tr>\n",
       "      <th>1</th>\n",
       "      <td>2013-06-29 00:00:39</td>\n",
       "      <td>819</td>\n",
       "      <td>16429</td>\n",
       "      <td>NaN</td>\n",
       "      <td>NaN</td>\n",
       "    </tr>\n",
       "    <tr>\n",
       "      <th>2</th>\n",
       "      <td>2013-06-29 00:01:02</td>\n",
       "      <td>53737</td>\n",
       "      <td>98766</td>\n",
       "      <td>NaN</td>\n",
       "      <td>NaN</td>\n",
       "    </tr>\n",
       "    <tr>\n",
       "      <th>3</th>\n",
       "      <td>2013-06-29 00:01:44</td>\n",
       "      <td>150350</td>\n",
       "      <td>265233</td>\n",
       "      <td>NaN</td>\n",
       "      <td>NaN</td>\n",
       "    </tr>\n",
       "    <tr>\n",
       "      <th>4</th>\n",
       "      <td>2013-06-29 00:01:55</td>\n",
       "      <td>65330</td>\n",
       "      <td>154888</td>\n",
       "      <td>NaN</td>\n",
       "      <td>NaN</td>\n",
       "    </tr>\n",
       "  </tbody>\n",
       "</table>\n",
       "</div>"
      ],
      "text/plain": [
       "                    dt      entries       exits  entries_change  exits_change\n",
       "0  2013-06-29 00:00:00  14055198997  7474963985             0.0           0.0\n",
       "1  2013-06-29 00:00:39          819       16429             NaN           NaN\n",
       "2  2013-06-29 00:01:02        53737       98766             NaN           NaN\n",
       "3  2013-06-29 00:01:44       150350      265233             NaN           NaN\n",
       "4  2013-06-29 00:01:55        65330      154888             NaN           NaN"
      ]
     },
     "execution_count": 204,
     "metadata": {},
     "output_type": "execute_result"
    }
   ],
   "source": [
    "df_change.head()"
   ]
  },
  {
   "cell_type": "markdown",
   "metadata": {},
   "source": [
    "### Q1.  What is the total number of entries & exits across the subway system for August 1, 2013?"
   ]
  },
  {
   "cell_type": "code",
   "execution_count": 8,
   "metadata": {
    "collapsed": false
   },
   "outputs": [
    {
     "data": {
      "text/plain": [
       "(31564, 16)"
      ]
     },
     "execution_count": 8,
     "metadata": {},
     "output_type": "execute_result"
    }
   ],
   "source": [
    "#get data for August 1, 2013\n",
    "df_0801 = df_merge[(df_merge['dt']<='2013-08-02 00:00:00') & (df_merge['dt']> '2013-08-01 00:00:00')]\n",
    "df_0801.shape"
   ]
  },
  {
   "cell_type": "code",
   "execution_count": 9,
   "metadata": {
    "collapsed": false
   },
   "outputs": [
    {
     "name": "stderr",
     "output_type": "stream",
     "text": [
      "//anaconda/lib/python3.5/site-packages/pandas/core/indexing.py:517: SettingWithCopyWarning: \n",
      "A value is trying to be set on a copy of a slice from a DataFrame.\n",
      "Try using .loc[row_indexer,col_indexer] = value instead\n",
      "\n",
      "See the caveats in the documentation: http://pandas.pydata.org/pandas-docs/stable/indexing.html#indexing-view-versus-copy\n",
      "  self.obj[item] = s\n"
     ]
    }
   ],
   "source": [
    "#remove outlier - replace with 0\n",
    "outlier_1 = df_0801[df_0801['entries_change']<0].index.tolist()\n",
    "outlier_2 = df_0801[df_0801['exits_change']<0].index.tolist()\n",
    "outlier_3 = df_0801[df_0801['entries_change']>50000].index.tolist()\n",
    "outlier_4 = df_0801[df_0801['exits_change']>50000].index.tolist()\n",
    "outliers = outlier_1+outlier_2+outlier_3+outlier_4\n",
    "df_0801.fillna(0)\n",
    "df_0801.loc[outliers,['entries_change','exits_change']] = 0"
   ]
  },
  {
   "cell_type": "code",
   "execution_count": 10,
   "metadata": {
    "collapsed": false
   },
   "outputs": [
    {
     "data": {
      "text/html": [
       "<div>\n",
       "<style>\n",
       "    .dataframe thead tr:only-child th {\n",
       "        text-align: right;\n",
       "    }\n",
       "\n",
       "    .dataframe thead th {\n",
       "        text-align: left;\n",
       "    }\n",
       "\n",
       "    .dataframe tbody tr th {\n",
       "        vertical-align: top;\n",
       "    }\n",
       "</style>\n",
       "<table border=\"1\" class=\"dataframe\">\n",
       "  <thead>\n",
       "    <tr style=\"text-align: right;\">\n",
       "      <th></th>\n",
       "      <th>dt</th>\n",
       "      <th>entries</th>\n",
       "      <th>exits</th>\n",
       "      <th>entries_change</th>\n",
       "      <th>exits_change</th>\n",
       "      <th>busyness</th>\n",
       "    </tr>\n",
       "  </thead>\n",
       "  <tbody>\n",
       "    <tr>\n",
       "      <th>0</th>\n",
       "      <td>2013-08-01 00:00:12</td>\n",
       "      <td>7304399</td>\n",
       "      <td>5911902</td>\n",
       "      <td>0.0</td>\n",
       "      <td>0.0</td>\n",
       "      <td>0.0</td>\n",
       "    </tr>\n",
       "    <tr>\n",
       "      <th>1</th>\n",
       "      <td>2013-08-01 00:00:13</td>\n",
       "      <td>7304399</td>\n",
       "      <td>5911902</td>\n",
       "      <td>0.0</td>\n",
       "      <td>0.0</td>\n",
       "      <td>0.0</td>\n",
       "    </tr>\n",
       "    <tr>\n",
       "      <th>2</th>\n",
       "      <td>2013-08-01 00:00:25</td>\n",
       "      <td>2123</td>\n",
       "      <td>108</td>\n",
       "      <td>77.0</td>\n",
       "      <td>8.0</td>\n",
       "      <td>85.0</td>\n",
       "    </tr>\n",
       "    <tr>\n",
       "      <th>3</th>\n",
       "      <td>2013-08-01 00:02:02</td>\n",
       "      <td>96556</td>\n",
       "      <td>2931</td>\n",
       "      <td>38.0</td>\n",
       "      <td>1.0</td>\n",
       "      <td>39.0</td>\n",
       "    </tr>\n",
       "    <tr>\n",
       "      <th>4</th>\n",
       "      <td>2013-08-01 00:03:18</td>\n",
       "      <td>326954</td>\n",
       "      <td>153499</td>\n",
       "      <td>145.0</td>\n",
       "      <td>371.0</td>\n",
       "      <td>516.0</td>\n",
       "    </tr>\n",
       "  </tbody>\n",
       "</table>\n",
       "</div>"
      ],
      "text/plain": [
       "                    dt  entries    exits  entries_change  exits_change  \\\n",
       "0  2013-08-01 00:00:12  7304399  5911902             0.0           0.0   \n",
       "1  2013-08-01 00:00:13  7304399  5911902             0.0           0.0   \n",
       "2  2013-08-01 00:00:25     2123      108            77.0           8.0   \n",
       "3  2013-08-01 00:02:02    96556     2931            38.0           1.0   \n",
       "4  2013-08-01 00:03:18   326954   153499           145.0         371.0   \n",
       "\n",
       "   busyness  \n",
       "0       0.0  \n",
       "1       0.0  \n",
       "2      85.0  \n",
       "3      39.0  \n",
       "4     516.0  "
      ]
     },
     "execution_count": 10,
     "metadata": {},
     "output_type": "execute_result"
    }
   ],
   "source": [
    "a = df_0801.groupby('dt').sum().reset_index()\n",
    "a.head()"
   ]
  },
  {
   "cell_type": "code",
   "execution_count": 11,
   "metadata": {
    "collapsed": false
   },
   "outputs": [
    {
     "data": {
      "text/plain": [
       "[<matplotlib.lines.Line2D at 0x1132cdba8>]"
      ]
     },
     "execution_count": 11,
     "metadata": {},
     "output_type": "execute_result"
    },
    {
     "data": {
      "image/png": "[encoded data removed]",
      "text/plain": [
       "<matplotlib.figure.Figure at 0x113066470>"
      ]
     },
     "metadata": {},
     "output_type": "display_data"
    }
   ],
   "source": [
    "plt.figure(figsize = (20,8))\n",
    "date = matplotlib.dates.datestr2num(a['dt'].tolist())\n",
    "#plt.plot_date(date,a['busyness'],'-')\n",
    "plt.plot_date(date,a['entries_change'],'-')\n",
    "plt.plot_date(date,a['exits_change'],'-')"
   ]
  },
  {
   "cell_type": "code",
   "execution_count": 12,
   "metadata": {
    "collapsed": false
   },
   "outputs": [
    {
     "name": "stderr",
     "output_type": "stream",
     "text": [
      "//anaconda/lib/python3.5/site-packages/ipykernel/__main__.py:1: SettingWithCopyWarning: \n",
      "A value is trying to be set on a copy of a slice from a DataFrame.\n",
      "Try using .loc[row_indexer,col_indexer] = value instead\n",
      "\n",
      "See the caveats in the documentation: http://pandas.pydata.org/pandas-docs/stable/indexing.html#indexing-view-versus-copy\n",
      "  if __name__ == '__main__':\n"
     ]
    }
   ],
   "source": [
    "df_0801['busyness'] = df_0801['entries_change']+df_0801['exits_change']"
   ]
  },
  {
   "cell_type": "code",
   "execution_count": 13,
   "metadata": {
    "collapsed": false
   },
   "outputs": [
    {
     "data": {
      "text/html": [
       "<div>\n",
       "<style>\n",
       "    .dataframe thead tr:only-child th {\n",
       "        text-align: right;\n",
       "    }\n",
       "\n",
       "    .dataframe thead th {\n",
       "        text-align: left;\n",
       "    }\n",
       "\n",
       "    .dataframe tbody tr th {\n",
       "        vertical-align: top;\n",
       "    }\n",
       "</style>\n",
       "<table border=\"1\" class=\"dataframe\">\n",
       "  <thead>\n",
       "    <tr style=\"text-align: right;\">\n",
       "      <th></th>\n",
       "      <th>date</th>\n",
       "      <th>time</th>\n",
       "      <th>disc</th>\n",
       "      <th>entries</th>\n",
       "      <th>exits</th>\n",
       "      <th>location</th>\n",
       "      <th>datetime</th>\n",
       "      <th>dt</th>\n",
       "      <th>entries_change</th>\n",
       "      <th>exits_change</th>\n",
       "      <th>Booth</th>\n",
       "      <th>Remote</th>\n",
       "      <th>busyness</th>\n",
       "      <th>Station</th>\n",
       "      <th>Line Name</th>\n",
       "      <th>Division</th>\n",
       "    </tr>\n",
       "  </thead>\n",
       "  <tbody>\n",
       "    <tr>\n",
       "      <th>660891</th>\n",
       "      <td>08-01-13</td>\n",
       "      <td>10:51:31</td>\n",
       "      <td>REGULAR</td>\n",
       "      <td>44584</td>\n",
       "      <td>4414</td>\n",
       "      <td>PTH05 R543 00-04-00</td>\n",
       "      <td>08-01-13 10:51:31</td>\n",
       "      <td>2013-08-01 10:51:31</td>\n",
       "      <td>44581.0</td>\n",
       "      <td>4396.0</td>\n",
       "      <td>PTH05</td>\n",
       "      <td>R543</td>\n",
       "      <td>48977.0</td>\n",
       "      <td>EXCHANGE PLACE</td>\n",
       "      <td>1</td>\n",
       "      <td>PTH</td>\n",
       "    </tr>\n",
       "    <tr>\n",
       "      <th>753118</th>\n",
       "      <td>08-01-13</td>\n",
       "      <td>20:00:00</td>\n",
       "      <td>REGULAR</td>\n",
       "      <td>13560102</td>\n",
       "      <td>47368961</td>\n",
       "      <td>N063A R011 00-00-00</td>\n",
       "      <td>08-01-13 20:00:00</td>\n",
       "      <td>2013-08-01 20:00:00</td>\n",
       "      <td>95.0</td>\n",
       "      <td>3951.0</td>\n",
       "      <td>N063A</td>\n",
       "      <td>R011</td>\n",
       "      <td>4046.0</td>\n",
       "      <td>42 ST-PA BUS TE</td>\n",
       "      <td>ACENQRS1237</td>\n",
       "      <td>IND</td>\n",
       "    </tr>\n",
       "    <tr>\n",
       "      <th>754898</th>\n",
       "      <td>08-01-13</td>\n",
       "      <td>20:00:00</td>\n",
       "      <td>REGULAR</td>\n",
       "      <td>20085677</td>\n",
       "      <td>30908428</td>\n",
       "      <td>N063A R011 00-00-01</td>\n",
       "      <td>08-01-13 20:00:00</td>\n",
       "      <td>2013-08-01 20:00:00</td>\n",
       "      <td>155.0</td>\n",
       "      <td>3721.0</td>\n",
       "      <td>N063A</td>\n",
       "      <td>R011</td>\n",
       "      <td>3876.0</td>\n",
       "      <td>42 ST-PA BUS TE</td>\n",
       "      <td>ACENQRS1237</td>\n",
       "      <td>IND</td>\n",
       "    </tr>\n",
       "    <tr>\n",
       "      <th>449452</th>\n",
       "      <td>08-02-13</td>\n",
       "      <td>00:00:00</td>\n",
       "      <td>REGULAR</td>\n",
       "      <td>360021</td>\n",
       "      <td>41814358</td>\n",
       "      <td>N507 R023 00-00-00</td>\n",
       "      <td>08-02-13 00:00:00</td>\n",
       "      <td>2013-08-02 00:00:00</td>\n",
       "      <td>33.0</td>\n",
       "      <td>3842.0</td>\n",
       "      <td>N507</td>\n",
       "      <td>R023</td>\n",
       "      <td>3875.0</td>\n",
       "      <td>34 ST-HERALD SQ</td>\n",
       "      <td>BDFMNQR</td>\n",
       "      <td>IND</td>\n",
       "    </tr>\n",
       "    <tr>\n",
       "      <th>175007</th>\n",
       "      <td>08-01-13</td>\n",
       "      <td>20:00:00</td>\n",
       "      <td>REGULAR</td>\n",
       "      <td>239224</td>\n",
       "      <td>2398690</td>\n",
       "      <td>R249 R179 01-00-09</td>\n",
       "      <td>08-01-13 20:00:00</td>\n",
       "      <td>2013-08-01 20:00:00</td>\n",
       "      <td>381.0</td>\n",
       "      <td>3145.0</td>\n",
       "      <td>R249</td>\n",
       "      <td>R179</td>\n",
       "      <td>3526.0</td>\n",
       "      <td>86 ST</td>\n",
       "      <td>456</td>\n",
       "      <td>IRT</td>\n",
       "    </tr>\n",
       "  </tbody>\n",
       "</table>\n",
       "</div>"
      ],
      "text/plain": [
       "            date      time     disc   entries     exits             location  \\\n",
       "660891  08-01-13  10:51:31  REGULAR     44584      4414  PTH05 R543 00-04-00   \n",
       "753118  08-01-13  20:00:00  REGULAR  13560102  47368961  N063A R011 00-00-00   \n",
       "754898  08-01-13  20:00:00  REGULAR  20085677  30908428  N063A R011 00-00-01   \n",
       "449452  08-02-13  00:00:00  REGULAR    360021  41814358   N507 R023 00-00-00   \n",
       "175007  08-01-13  20:00:00  REGULAR    239224   2398690   R249 R179 01-00-09   \n",
       "\n",
       "                 datetime                   dt  entries_change  exits_change  \\\n",
       "660891  08-01-13 10:51:31  2013-08-01 10:51:31         44581.0        4396.0   \n",
       "753118  08-01-13 20:00:00  2013-08-01 20:00:00            95.0        3951.0   \n",
       "754898  08-01-13 20:00:00  2013-08-01 20:00:00           155.0        3721.0   \n",
       "449452  08-02-13 00:00:00  2013-08-02 00:00:00            33.0        3842.0   \n",
       "175007  08-01-13 20:00:00  2013-08-01 20:00:00           381.0        3145.0   \n",
       "\n",
       "        Booth Remote  busyness          Station    Line Name Division  \n",
       "660891  PTH05   R543   48977.0   EXCHANGE PLACE            1      PTH  \n",
       "753118  N063A   R011    4046.0  42 ST-PA BUS TE  ACENQRS1237      IND  \n",
       "754898  N063A   R011    3876.0  42 ST-PA BUS TE  ACENQRS1237      IND  \n",
       "449452   N507   R023    3875.0  34 ST-HERALD SQ      BDFMNQR      IND  \n",
       "175007   R249   R179    3526.0            86 ST          456      IRT  "
      ]
     },
     "execution_count": 13,
     "metadata": {},
     "output_type": "execute_result"
    }
   ],
   "source": [
    "df_0801.sort_values('busyness', ascending = False).head()"
   ]
  },
  {
   "cell_type": "code",
   "execution_count": 17,
   "metadata": {
    "collapsed": false
   },
   "outputs": [
    {
     "name": "stdout",
     "output_type": "stream",
     "text": [
      "Total number of entries on August 1, 2013:  5550594\n"
     ]
    }
   ],
   "source": [
    "#total number of entries on 08012013\n",
    "print ('Total number of entries on August 1, 2013: ' ,int(df_0801['entries_change'].sum()))"
   ]
  },
  {
   "cell_type": "code",
   "execution_count": 19,
   "metadata": {
    "collapsed": false
   },
   "outputs": [
    {
     "name": "stdout",
     "output_type": "stream",
     "text": [
      "Total number of entries on August 1, 2013:  4353322\n"
     ]
    }
   ],
   "source": [
    "#total number of exits on 08012013\n",
    "print ('Total number of entries on August 1, 2013: ' ,int(df_0801['exits_change'].sum()))"
   ]
  },
  {
   "cell_type": "markdown",
   "metadata": {},
   "source": [
    "##### Q1 Answer\n",
    "Total number of entries on August 1, 2013:  5550594\n",
    "\n",
    "Total number of entries on August 1, 2013:  4353322"
   ]
  },
  {
   "cell_type": "markdown",
   "metadata": {},
   "source": [
    "### Q2. What station was the busiest on August 1, 2013? What turnstile was the busiest on that date?"
   ]
  },
  {
   "cell_type": "code",
   "execution_count": 20,
   "metadata": {
    "collapsed": false
   },
   "outputs": [
    {
     "data": {
      "text/html": [
       "<div>\n",
       "<style>\n",
       "    .dataframe thead tr:only-child th {\n",
       "        text-align: right;\n",
       "    }\n",
       "\n",
       "    .dataframe thead th {\n",
       "        text-align: left;\n",
       "    }\n",
       "\n",
       "    .dataframe tbody tr th {\n",
       "        vertical-align: top;\n",
       "    }\n",
       "</style>\n",
       "<table border=\"1\" class=\"dataframe\">\n",
       "  <thead>\n",
       "    <tr style=\"text-align: right;\">\n",
       "      <th></th>\n",
       "      <th>Station</th>\n",
       "      <th>entries</th>\n",
       "      <th>exits</th>\n",
       "      <th>entries_change</th>\n",
       "      <th>exits_change</th>\n",
       "      <th>busyness</th>\n",
       "    </tr>\n",
       "  </thead>\n",
       "  <tbody>\n",
       "    <tr>\n",
       "      <th>67</th>\n",
       "      <td>34 ST-PENN STA</td>\n",
       "      <td>4416246177</td>\n",
       "      <td>3000086280</td>\n",
       "      <td>175313.0</td>\n",
       "      <td>156138.0</td>\n",
       "      <td>331451.0</td>\n",
       "    </tr>\n",
       "    <tr>\n",
       "      <th>72</th>\n",
       "      <td>42 ST-GRD CNTRL</td>\n",
       "      <td>3442891478</td>\n",
       "      <td>2366714677</td>\n",
       "      <td>165003.0</td>\n",
       "      <td>151252.0</td>\n",
       "      <td>316255.0</td>\n",
       "    </tr>\n",
       "    <tr>\n",
       "      <th>66</th>\n",
       "      <td>34 ST-HERALD SQ</td>\n",
       "      <td>2168221023</td>\n",
       "      <td>2173729931</td>\n",
       "      <td>122548.0</td>\n",
       "      <td>114529.0</td>\n",
       "      <td>237077.0</td>\n",
       "    </tr>\n",
       "    <tr>\n",
       "      <th>74</th>\n",
       "      <td>42 ST-TIMES SQ</td>\n",
       "      <td>1253148276</td>\n",
       "      <td>2904504784</td>\n",
       "      <td>105023.0</td>\n",
       "      <td>98255.0</td>\n",
       "      <td>203278.0</td>\n",
       "    </tr>\n",
       "    <tr>\n",
       "      <th>18</th>\n",
       "      <td>14 ST-UNION SQ</td>\n",
       "      <td>2588577468</td>\n",
       "      <td>1299808617</td>\n",
       "      <td>104395.0</td>\n",
       "      <td>92719.0</td>\n",
       "      <td>197114.0</td>\n",
       "    </tr>\n",
       "  </tbody>\n",
       "</table>\n",
       "</div>"
      ],
      "text/plain": [
       "            Station     entries       exits  entries_change  exits_change  \\\n",
       "67   34 ST-PENN STA  4416246177  3000086280        175313.0      156138.0   \n",
       "72  42 ST-GRD CNTRL  3442891478  2366714677        165003.0      151252.0   \n",
       "66  34 ST-HERALD SQ  2168221023  2173729931        122548.0      114529.0   \n",
       "74   42 ST-TIMES SQ  1253148276  2904504784        105023.0       98255.0   \n",
       "18   14 ST-UNION SQ  2588577468  1299808617        104395.0       92719.0   \n",
       "\n",
       "    busyness  \n",
       "67  331451.0  \n",
       "72  316255.0  \n",
       "66  237077.0  \n",
       "74  203278.0  \n",
       "18  197114.0  "
      ]
     },
     "execution_count": 20,
     "metadata": {},
     "output_type": "execute_result"
    }
   ],
   "source": [
    "df_0801.groupby('Station').sum().reset_index().sort_values('busyness',ascending = False).head()"
   ]
  },
  {
   "cell_type": "code",
   "execution_count": 21,
   "metadata": {
    "collapsed": false
   },
   "outputs": [
    {
     "data": {
      "text/html": [
       "<div>\n",
       "<style>\n",
       "    .dataframe thead tr:only-child th {\n",
       "        text-align: right;\n",
       "    }\n",
       "\n",
       "    .dataframe thead th {\n",
       "        text-align: left;\n",
       "    }\n",
       "\n",
       "    .dataframe tbody tr th {\n",
       "        vertical-align: top;\n",
       "    }\n",
       "</style>\n",
       "<table border=\"1\" class=\"dataframe\">\n",
       "  <thead>\n",
       "    <tr style=\"text-align: right;\">\n",
       "      <th></th>\n",
       "      <th>location</th>\n",
       "      <th>entries</th>\n",
       "      <th>exits</th>\n",
       "      <th>entries_change</th>\n",
       "      <th>exits_change</th>\n",
       "      <th>busyness</th>\n",
       "    </tr>\n",
       "  </thead>\n",
       "  <tbody>\n",
       "    <tr>\n",
       "      <th>2523</th>\n",
       "      <td>PTH05 R543 00-04-00</td>\n",
       "      <td>267600</td>\n",
       "      <td>26547</td>\n",
       "      <td>44769.0</td>\n",
       "      <td>4419.0</td>\n",
       "      <td>49188.0</td>\n",
       "    </tr>\n",
       "    <tr>\n",
       "      <th>1149</th>\n",
       "      <td>N063A R011 00-00-00</td>\n",
       "      <td>94916009</td>\n",
       "      <td>331548586</td>\n",
       "      <td>1882.0</td>\n",
       "      <td>9963.0</td>\n",
       "      <td>11845.0</td>\n",
       "    </tr>\n",
       "    <tr>\n",
       "      <th>3499</th>\n",
       "      <td>R249 R179 01-00-09</td>\n",
       "      <td>1433030</td>\n",
       "      <td>14367900</td>\n",
       "      <td>964.0</td>\n",
       "      <td>10559.0</td>\n",
       "      <td>11523.0</td>\n",
       "    </tr>\n",
       "    <tr>\n",
       "      <th>3391</th>\n",
       "      <td>R240 R047 00-00-00</td>\n",
       "      <td>26008923</td>\n",
       "      <td>63119519</td>\n",
       "      <td>3831.0</td>\n",
       "      <td>7309.0</td>\n",
       "      <td>11140.0</td>\n",
       "    </tr>\n",
       "    <tr>\n",
       "      <th>1251</th>\n",
       "      <td>N083 R138 01-00-00</td>\n",
       "      <td>24999744</td>\n",
       "      <td>54105765</td>\n",
       "      <td>2107.0</td>\n",
       "      <td>8461.0</td>\n",
       "      <td>10568.0</td>\n",
       "    </tr>\n",
       "  </tbody>\n",
       "</table>\n",
       "</div>"
      ],
      "text/plain": [
       "                 location   entries      exits  entries_change  exits_change  \\\n",
       "2523  PTH05 R543 00-04-00    267600      26547         44769.0        4419.0   \n",
       "1149  N063A R011 00-00-00  94916009  331548586          1882.0        9963.0   \n",
       "3499   R249 R179 01-00-09   1433030   14367900           964.0       10559.0   \n",
       "3391   R240 R047 00-00-00  26008923   63119519          3831.0        7309.0   \n",
       "1251   N083 R138 01-00-00  24999744   54105765          2107.0        8461.0   \n",
       "\n",
       "      busyness  \n",
       "2523   49188.0  \n",
       "1149   11845.0  \n",
       "3499   11523.0  \n",
       "3391   11140.0  \n",
       "1251   10568.0  "
      ]
     },
     "execution_count": 21,
     "metadata": {},
     "output_type": "execute_result"
    }
   ],
   "source": [
    "df_0801.groupby('location').sum().reset_index().sort_values('busyness',ascending = False).head()"
   ]
  },
  {
   "cell_type": "markdown",
   "metadata": {},
   "source": [
    "##### Q2 Answer\n",
    "The busiest station is 34 ST-PENN STA with 175313 entries and 156138 exits.\n",
    "\n",
    "The busiest turnstile is PTH05 R543 00-04-00 with 44769 entries and 4419 exits -- a little strange as the entries counts and exits counts differ that much"
   ]
  },
  {
   "cell_type": "markdown",
   "metadata": {},
   "source": [
    "### Q3.  What were the busiest and least-busy stations in the system over all of July 2013?\n"
   ]
  },
  {
   "cell_type": "code",
   "execution_count": 22,
   "metadata": {
    "collapsed": true
   },
   "outputs": [],
   "source": [
    "july = df_merge[(df_merge['dt']<='2013-08-01 00:00:00') & (df_merge['dt']> '2013-07-01 00:00:00')]"
   ]
  },
  {
   "cell_type": "code",
   "execution_count": 23,
   "metadata": {
    "collapsed": false
   },
   "outputs": [
    {
     "data": {
      "text/plain": [
       "(953741, 16)"
      ]
     },
     "execution_count": 23,
     "metadata": {},
     "output_type": "execute_result"
    }
   ],
   "source": [
    "july.shape"
   ]
  },
  {
   "cell_type": "code",
   "execution_count": 24,
   "metadata": {
    "collapsed": true
   },
   "outputs": [],
   "source": [
    "#remove outlier - replace with 0\n",
    "outlier_1 = july[july['entries_change']<0].index.tolist()\n",
    "outlier_2 = july[july['exits_change']<0].index.tolist()\n",
    "outlier_3 = july[july['entries_change']>50000].index.tolist()\n",
    "outlier_4 = july[july['exits_change']>50000].index.tolist()\n",
    "outliers = outlier_1+outlier_2+outlier_3+outlier_4"
   ]
  },
  {
   "cell_type": "code",
   "execution_count": 25,
   "metadata": {
    "collapsed": false
   },
   "outputs": [
    {
     "name": "stderr",
     "output_type": "stream",
     "text": [
      "//anaconda/lib/python3.5/site-packages/pandas/core/indexing.py:517: SettingWithCopyWarning: \n",
      "A value is trying to be set on a copy of a slice from a DataFrame.\n",
      "Try using .loc[row_indexer,col_indexer] = value instead\n",
      "\n",
      "See the caveats in the documentation: http://pandas.pydata.org/pandas-docs/stable/indexing.html#indexing-view-versus-copy\n",
      "  self.obj[item] = s\n"
     ]
    }
   ],
   "source": [
    "july.fillna(0)\n",
    "july.loc[outliers,['entries_change','exits_change']] = 0"
   ]
  },
  {
   "cell_type": "code",
   "execution_count": 26,
   "metadata": {
    "collapsed": false
   },
   "outputs": [],
   "source": [
    "a = july.groupby('dt').sum().reset_index()"
   ]
  },
  {
   "cell_type": "code",
   "execution_count": 27,
   "metadata": {
    "collapsed": false
   },
   "outputs": [
    {
     "data": {
      "text/plain": [
       "[<matplotlib.lines.Line2D at 0x115c7bb38>]"
      ]
     },
     "execution_count": 27,
     "metadata": {},
     "output_type": "execute_result"
    },
    {
     "data": {
      "image/png": "[encoded data removed]",
      "text/plain": [
       "<matplotlib.figure.Figure at 0x103fffa20>"
      ]
     },
     "metadata": {},
     "output_type": "display_data"
    }
   ],
   "source": [
    "plt.figure(figsize = (20,8))\n",
    "date = matplotlib.dates.datestr2num(a['dt'].tolist())\n",
    "#plt.plot_date(date,a['busyness'],'-')\n",
    "plt.plot_date(date,a['entries_change'],'-')\n",
    "plt.plot_date(date,a['exits_change'],'-')"
   ]
  },
  {
   "cell_type": "code",
   "execution_count": 28,
   "metadata": {
    "collapsed": false
   },
   "outputs": [
    {
     "name": "stderr",
     "output_type": "stream",
     "text": [
      "//anaconda/lib/python3.5/site-packages/ipykernel/__main__.py:1: SettingWithCopyWarning: \n",
      "A value is trying to be set on a copy of a slice from a DataFrame.\n",
      "Try using .loc[row_indexer,col_indexer] = value instead\n",
      "\n",
      "See the caveats in the documentation: http://pandas.pydata.org/pandas-docs/stable/indexing.html#indexing-view-versus-copy\n",
      "  if __name__ == '__main__':\n"
     ]
    }
   ],
   "source": [
    "july['busyness'] = july['entries_change']+july['exits_change']"
   ]
  },
  {
   "cell_type": "code",
   "execution_count": 29,
   "metadata": {
    "collapsed": false
   },
   "outputs": [
    {
     "data": {
      "text/html": [
       "<div>\n",
       "<style>\n",
       "    .dataframe thead tr:only-child th {\n",
       "        text-align: right;\n",
       "    }\n",
       "\n",
       "    .dataframe thead th {\n",
       "        text-align: left;\n",
       "    }\n",
       "\n",
       "    .dataframe tbody tr th {\n",
       "        vertical-align: top;\n",
       "    }\n",
       "</style>\n",
       "<table border=\"1\" class=\"dataframe\">\n",
       "  <thead>\n",
       "    <tr style=\"text-align: right;\">\n",
       "      <th></th>\n",
       "      <th>Station</th>\n",
       "      <th>entries</th>\n",
       "      <th>exits</th>\n",
       "      <th>entries_change</th>\n",
       "      <th>exits_change</th>\n",
       "      <th>busyness</th>\n",
       "    </tr>\n",
       "  </thead>\n",
       "  <tbody>\n",
       "    <tr>\n",
       "      <th>67</th>\n",
       "      <td>34 ST-PENN STA</td>\n",
       "      <td>119803187490</td>\n",
       "      <td>82887910280</td>\n",
       "      <td>4578140.0</td>\n",
       "      <td>4018179.0</td>\n",
       "      <td>8596319.0</td>\n",
       "    </tr>\n",
       "    <tr>\n",
       "      <th>72</th>\n",
       "      <td>42 ST-GRD CNTRL</td>\n",
       "      <td>88097558369</td>\n",
       "      <td>66455828247</td>\n",
       "      <td>3845080.0</td>\n",
       "      <td>3609752.0</td>\n",
       "      <td>7454832.0</td>\n",
       "    </tr>\n",
       "    <tr>\n",
       "      <th>66</th>\n",
       "      <td>34 ST-HERALD SQ</td>\n",
       "      <td>63089980345</td>\n",
       "      <td>63269142524</td>\n",
       "      <td>3212704.0</td>\n",
       "      <td>2985543.0</td>\n",
       "      <td>6198247.0</td>\n",
       "    </tr>\n",
       "    <tr>\n",
       "      <th>74</th>\n",
       "      <td>42 ST-TIMES SQ</td>\n",
       "      <td>40099107983</td>\n",
       "      <td>94945541600</td>\n",
       "      <td>2839397.0</td>\n",
       "      <td>2752965.0</td>\n",
       "      <td>5592362.0</td>\n",
       "    </tr>\n",
       "    <tr>\n",
       "      <th>18</th>\n",
       "      <td>14 ST-UNION SQ</td>\n",
       "      <td>85643821643</td>\n",
       "      <td>35367177428</td>\n",
       "      <td>2899685.0</td>\n",
       "      <td>2649804.0</td>\n",
       "      <td>5549489.0</td>\n",
       "    </tr>\n",
       "  </tbody>\n",
       "</table>\n",
       "</div>"
      ],
      "text/plain": [
       "            Station       entries        exits  entries_change  exits_change  \\\n",
       "67   34 ST-PENN STA  119803187490  82887910280       4578140.0     4018179.0   \n",
       "72  42 ST-GRD CNTRL   88097558369  66455828247       3845080.0     3609752.0   \n",
       "66  34 ST-HERALD SQ   63089980345  63269142524       3212704.0     2985543.0   \n",
       "74   42 ST-TIMES SQ   40099107983  94945541600       2839397.0     2752965.0   \n",
       "18   14 ST-UNION SQ   85643821643  35367177428       2899685.0     2649804.0   \n",
       "\n",
       "     busyness  \n",
       "67  8596319.0  \n",
       "72  7454832.0  \n",
       "66  6198247.0  \n",
       "74  5592362.0  \n",
       "18  5549489.0  "
      ]
     },
     "execution_count": 29,
     "metadata": {},
     "output_type": "execute_result"
    }
   ],
   "source": [
    "july.groupby('Station').sum().reset_index().sort_values('busyness',ascending = False).head()"
   ]
  },
  {
   "cell_type": "code",
   "execution_count": 31,
   "metadata": {
    "collapsed": false
   },
   "outputs": [
    {
     "data": {
      "text/html": [
       "<div>\n",
       "<style>\n",
       "    .dataframe thead tr:only-child th {\n",
       "        text-align: right;\n",
       "    }\n",
       "\n",
       "    .dataframe thead th {\n",
       "        text-align: left;\n",
       "    }\n",
       "\n",
       "    .dataframe tbody tr th {\n",
       "        vertical-align: top;\n",
       "    }\n",
       "</style>\n",
       "<table border=\"1\" class=\"dataframe\">\n",
       "  <thead>\n",
       "    <tr style=\"text-align: right;\">\n",
       "      <th></th>\n",
       "      <th>Station</th>\n",
       "      <th>entries</th>\n",
       "      <th>exits</th>\n",
       "      <th>entries_change</th>\n",
       "      <th>exits_change</th>\n",
       "      <th>busyness</th>\n",
       "    </tr>\n",
       "  </thead>\n",
       "  <tbody>\n",
       "    <tr>\n",
       "      <th>121</th>\n",
       "      <td>AQUEDUCT TRACK</td>\n",
       "      <td>10710597337</td>\n",
       "      <td>3560668681</td>\n",
       "      <td>117.0</td>\n",
       "      <td>152.0</td>\n",
       "      <td>269.0</td>\n",
       "    </tr>\n",
       "    <tr>\n",
       "      <th>161</th>\n",
       "      <td>BROAD CHANNEL</td>\n",
       "      <td>311966259</td>\n",
       "      <td>107856414</td>\n",
       "      <td>5776.0</td>\n",
       "      <td>2670.0</td>\n",
       "      <td>8446.0</td>\n",
       "    </tr>\n",
       "    <tr>\n",
       "      <th>312</th>\n",
       "      <td>ORCHARD BEACH</td>\n",
       "      <td>92760348</td>\n",
       "      <td>5216670</td>\n",
       "      <td>16260.0</td>\n",
       "      <td>1002.0</td>\n",
       "      <td>17262.0</td>\n",
       "    </tr>\n",
       "    <tr>\n",
       "      <th>356</th>\n",
       "      <td>TOMPKINSVILLE</td>\n",
       "      <td>1692849459</td>\n",
       "      <td>514313635</td>\n",
       "      <td>18363.0</td>\n",
       "      <td>1.0</td>\n",
       "      <td>18364.0</td>\n",
       "    </tr>\n",
       "    <tr>\n",
       "      <th>142</th>\n",
       "      <td>BEACH 44 ST</td>\n",
       "      <td>430955124</td>\n",
       "      <td>578560672</td>\n",
       "      <td>14226.0</td>\n",
       "      <td>16644.0</td>\n",
       "      <td>30870.0</td>\n",
       "    </tr>\n",
       "  </tbody>\n",
       "</table>\n",
       "</div>"
      ],
      "text/plain": [
       "            Station      entries       exits  entries_change  exits_change  \\\n",
       "121  AQUEDUCT TRACK  10710597337  3560668681           117.0         152.0   \n",
       "161   BROAD CHANNEL    311966259   107856414          5776.0        2670.0   \n",
       "312   ORCHARD BEACH     92760348     5216670         16260.0        1002.0   \n",
       "356   TOMPKINSVILLE   1692849459   514313635         18363.0           1.0   \n",
       "142     BEACH 44 ST    430955124   578560672         14226.0       16644.0   \n",
       "\n",
       "     busyness  \n",
       "121     269.0  \n",
       "161    8446.0  \n",
       "312   17262.0  \n",
       "356   18364.0  \n",
       "142   30870.0  "
      ]
     },
     "execution_count": 31,
     "metadata": {},
     "output_type": "execute_result"
    }
   ],
   "source": [
    "july.groupby('Station').sum().reset_index().sort_values('busyness',ascending = True).head()"
   ]
  },
  {
   "cell_type": "markdown",
   "metadata": {},
   "source": [
    "##### Q3 Answer\n",
    "The busiest station in July is 34 ST-PENN STA with 4578140 entries and 4018179 exits. \n",
    "\n",
    "The least busy station is AQUEDUCT TRACK with 117 entries and 152 exits."
   ]
  },
  {
   "cell_type": "markdown",
   "metadata": {},
   "source": [
    "### Q4.  Which station had the highest average number of entries between midnight & 4am on Fridays in July 2013?\n"
   ]
  },
  {
   "cell_type": "code",
   "execution_count": 32,
   "metadata": {
    "collapsed": true
   },
   "outputs": [
    {
     "data": {
      "text/html": [
       "<div>\n",
       "<style>\n",
       "    .dataframe thead tr:only-child th {\n",
       "        text-align: right;\n",
       "    }\n",
       "\n",
       "    .dataframe thead th {\n",
       "        text-align: left;\n",
       "    }\n",
       "\n",
       "    .dataframe tbody tr th {\n",
       "        vertical-align: top;\n",
       "    }\n",
       "</style>\n",
       "<table border=\"1\" class=\"dataframe\">\n",
       "  <thead>\n",
       "    <tr style=\"text-align: right;\">\n",
       "      <th></th>\n",
       "      <th>date</th>\n",
       "      <th>time</th>\n",
       "      <th>disc</th>\n",
       "      <th>entries</th>\n",
       "      <th>exits</th>\n",
       "      <th>location</th>\n",
       "      <th>datetime</th>\n",
       "      <th>dt</th>\n",
       "      <th>entries_change</th>\n",
       "      <th>exits_change</th>\n",
       "      <th>Booth</th>\n",
       "      <th>Remote</th>\n",
       "      <th>busyness</th>\n",
       "      <th>Station</th>\n",
       "      <th>Line Name</th>\n",
       "      <th>Division</th>\n",
       "      <th>weekday</th>\n",
       "    </tr>\n",
       "  </thead>\n",
       "  <tbody>\n",
       "    <tr>\n",
       "      <th>0</th>\n",
       "      <td>06-29-13</td>\n",
       "      <td>00:00:00</td>\n",
       "      <td>REGULAR</td>\n",
       "      <td>3775585</td>\n",
       "      <td>4786056</td>\n",
       "      <td>C008 R099 00-00-00</td>\n",
       "      <td>06-29-13 00:00:00</td>\n",
       "      <td>2013-06-29 00:00:00</td>\n",
       "      <td>NaN</td>\n",
       "      <td>NaN</td>\n",
       "      <td>C008</td>\n",
       "      <td>R099</td>\n",
       "      <td>NaN</td>\n",
       "      <td>DEKALB AVE</td>\n",
       "      <td>BDNQR</td>\n",
       "      <td>BMT</td>\n",
       "      <td>Saturday</td>\n",
       "    </tr>\n",
       "    <tr>\n",
       "      <th>1</th>\n",
       "      <td>06-29-13</td>\n",
       "      <td>04:00:00</td>\n",
       "      <td>REGULAR</td>\n",
       "      <td>3775645</td>\n",
       "      <td>4786184</td>\n",
       "      <td>C008 R099 00-00-00</td>\n",
       "      <td>06-29-13 04:00:00</td>\n",
       "      <td>2013-06-29 04:00:00</td>\n",
       "      <td>60.0</td>\n",
       "      <td>128.0</td>\n",
       "      <td>C008</td>\n",
       "      <td>R099</td>\n",
       "      <td>188.0</td>\n",
       "      <td>DEKALB AVE</td>\n",
       "      <td>BDNQR</td>\n",
       "      <td>BMT</td>\n",
       "      <td>Saturday</td>\n",
       "    </tr>\n",
       "    <tr>\n",
       "      <th>2</th>\n",
       "      <td>06-29-13</td>\n",
       "      <td>04:00:00</td>\n",
       "      <td>RECOVR AUD</td>\n",
       "      <td>3775645</td>\n",
       "      <td>4786184</td>\n",
       "      <td>C008 R099 00-00-00</td>\n",
       "      <td>06-29-13 04:00:00</td>\n",
       "      <td>2013-06-29 04:00:00</td>\n",
       "      <td>0.0</td>\n",
       "      <td>0.0</td>\n",
       "      <td>C008</td>\n",
       "      <td>R099</td>\n",
       "      <td>0.0</td>\n",
       "      <td>DEKALB AVE</td>\n",
       "      <td>BDNQR</td>\n",
       "      <td>BMT</td>\n",
       "      <td>Saturday</td>\n",
       "    </tr>\n",
       "    <tr>\n",
       "      <th>3</th>\n",
       "      <td>06-29-13</td>\n",
       "      <td>08:00:00</td>\n",
       "      <td>REGULAR</td>\n",
       "      <td>3775689</td>\n",
       "      <td>4786264</td>\n",
       "      <td>C008 R099 00-00-00</td>\n",
       "      <td>06-29-13 08:00:00</td>\n",
       "      <td>2013-06-29 08:00:00</td>\n",
       "      <td>44.0</td>\n",
       "      <td>80.0</td>\n",
       "      <td>C008</td>\n",
       "      <td>R099</td>\n",
       "      <td>124.0</td>\n",
       "      <td>DEKALB AVE</td>\n",
       "      <td>BDNQR</td>\n",
       "      <td>BMT</td>\n",
       "      <td>Saturday</td>\n",
       "    </tr>\n",
       "    <tr>\n",
       "      <th>4</th>\n",
       "      <td>06-29-13</td>\n",
       "      <td>09:15:50</td>\n",
       "      <td>DOOR OPEN</td>\n",
       "      <td>3775722</td>\n",
       "      <td>4786301</td>\n",
       "      <td>C008 R099 00-00-00</td>\n",
       "      <td>06-29-13 09:15:50</td>\n",
       "      <td>2013-06-29 09:15:50</td>\n",
       "      <td>33.0</td>\n",
       "      <td>37.0</td>\n",
       "      <td>C008</td>\n",
       "      <td>R099</td>\n",
       "      <td>70.0</td>\n",
       "      <td>DEKALB AVE</td>\n",
       "      <td>BDNQR</td>\n",
       "      <td>BMT</td>\n",
       "      <td>Saturday</td>\n",
       "    </tr>\n",
       "  </tbody>\n",
       "</table>\n",
       "</div>"
      ],
      "text/plain": [
       "       date      time        disc  entries    exits            location  \\\n",
       "0  06-29-13  00:00:00     REGULAR  3775585  4786056  C008 R099 00-00-00   \n",
       "1  06-29-13  04:00:00     REGULAR  3775645  4786184  C008 R099 00-00-00   \n",
       "2  06-29-13  04:00:00  RECOVR AUD  3775645  4786184  C008 R099 00-00-00   \n",
       "3  06-29-13  08:00:00     REGULAR  3775689  4786264  C008 R099 00-00-00   \n",
       "4  06-29-13  09:15:50   DOOR OPEN  3775722  4786301  C008 R099 00-00-00   \n",
       "\n",
       "            datetime                   dt  entries_change  exits_change Booth  \\\n",
       "0  06-29-13 00:00:00  2013-06-29 00:00:00             NaN           NaN  C008   \n",
       "1  06-29-13 04:00:00  2013-06-29 04:00:00            60.0         128.0  C008   \n",
       "2  06-29-13 04:00:00  2013-06-29 04:00:00             0.0           0.0  C008   \n",
       "3  06-29-13 08:00:00  2013-06-29 08:00:00            44.0          80.0  C008   \n",
       "4  06-29-13 09:15:50  2013-06-29 09:15:50            33.0          37.0  C008   \n",
       "\n",
       "  Remote  busyness     Station Line Name Division   weekday  \n",
       "0   R099       NaN  DEKALB AVE     BDNQR      BMT  Saturday  \n",
       "1   R099     188.0  DEKALB AVE     BDNQR      BMT  Saturday  \n",
       "2   R099       0.0  DEKALB AVE     BDNQR      BMT  Saturday  \n",
       "3   R099     124.0  DEKALB AVE     BDNQR      BMT  Saturday  \n",
       "4   R099      70.0  DEKALB AVE     BDNQR      BMT  Saturday  "
      ]
     },
     "execution_count": 32,
     "metadata": {},
     "output_type": "execute_result"
    }
   ],
   "source": [
    "# Get Week of Day data\n",
    "import datetime\n",
    "import calendar\n",
    "from datetime import datetime\n",
    "f = '%Y-%m-%d %H:%M:%S'\n",
    "df_merge['weekday'] = df_merge['dt'].apply(lambda x: calendar.day_name[datetime.strptime(x,f).weekday()])\n",
    "df_merge.head()"
   ]
  },
  {
   "cell_type": "code",
   "execution_count": 33,
   "metadata": {
    "collapsed": true
   },
   "outputs": [],
   "source": [
    "#GET all July Friday data\n",
    "july_fri = df_merge[(df_merge['weekday'] == 'Friday') \\\n",
    "                    & ((df_merge['time']<= '04:00:00') & (df_merge['time']>'00:00:00'))\\\n",
    "                    &(df_merge['date']<'08-01-13') \\\n",
    "                    & (df_merge['date']>='07-01-13')]"
   ]
  },
  {
   "cell_type": "code",
   "execution_count": 34,
   "metadata": {
    "collapsed": false
   },
   "outputs": [
    {
     "data": {
      "text/plain": [
       "[]"
      ]
     },
     "execution_count": 34,
     "metadata": {},
     "output_type": "execute_result"
    }
   ],
   "source": [
    "#remove outlier - replace with 0\n",
    "outlier_1 = july_fri[july_fri['entries_change']<0].index.tolist()\n",
    "outlier_2 = july_fri[july_fri['exits_change']<0].index.tolist()\n",
    "outlier_3 = july_fri[july_fri['entries_change']>50000].index.tolist()\n",
    "outlier_4 = july_fri[july_fri['exits_change']>50000].index.tolist()\n",
    "outliers = outlier_1+outlier_2+outlier_3+outlier_4\n",
    "outliers"
   ]
  },
  {
   "cell_type": "code",
   "execution_count": 36,
   "metadata": {
    "collapsed": false
   },
   "outputs": [
    {
     "data": {
      "text/html": [
       "<div>\n",
       "<style>\n",
       "    .dataframe thead tr:only-child th {\n",
       "        text-align: right;\n",
       "    }\n",
       "\n",
       "    .dataframe thead th {\n",
       "        text-align: left;\n",
       "    }\n",
       "\n",
       "    .dataframe tbody tr th {\n",
       "        vertical-align: top;\n",
       "    }\n",
       "</style>\n",
       "<table border=\"1\" class=\"dataframe\">\n",
       "  <thead>\n",
       "    <tr style=\"text-align: right;\">\n",
       "      <th></th>\n",
       "      <th>Station</th>\n",
       "      <th>entries</th>\n",
       "      <th>exits</th>\n",
       "      <th>entries_change</th>\n",
       "      <th>exits_change</th>\n",
       "      <th>busyness</th>\n",
       "    </tr>\n",
       "  </thead>\n",
       "  <tbody>\n",
       "    <tr>\n",
       "      <th>366</th>\n",
       "      <td>W 4 ST-WASH SQ</td>\n",
       "      <td>1.322984e+07</td>\n",
       "      <td>5.545697e+06</td>\n",
       "      <td>436.171053</td>\n",
       "      <td>204.473684</td>\n",
       "      <td>640.644737</td>\n",
       "    </tr>\n",
       "    <tr>\n",
       "      <th>18</th>\n",
       "      <td>14 ST-UNION SQ</td>\n",
       "      <td>9.977501e+06</td>\n",
       "      <td>4.182393e+06</td>\n",
       "      <td>381.853659</td>\n",
       "      <td>160.993902</td>\n",
       "      <td>542.847561</td>\n",
       "    </tr>\n",
       "    <tr>\n",
       "      <th>109</th>\n",
       "      <td>8 AVE</td>\n",
       "      <td>8.136542e+06</td>\n",
       "      <td>5.105369e+06</td>\n",
       "      <td>368.388889</td>\n",
       "      <td>177.750000</td>\n",
       "      <td>546.138889</td>\n",
       "    </tr>\n",
       "    <tr>\n",
       "      <th>379</th>\n",
       "      <td>YORK ST</td>\n",
       "      <td>8.108152e+06</td>\n",
       "      <td>7.698871e+06</td>\n",
       "      <td>352.333333</td>\n",
       "      <td>193.083333</td>\n",
       "      <td>545.416667</td>\n",
       "    </tr>\n",
       "    <tr>\n",
       "      <th>123</th>\n",
       "      <td>ASTOR PLACE</td>\n",
       "      <td>4.385038e+06</td>\n",
       "      <td>1.780139e+06</td>\n",
       "      <td>216.291667</td>\n",
       "      <td>113.458333</td>\n",
       "      <td>329.750000</td>\n",
       "    </tr>\n",
       "  </tbody>\n",
       "</table>\n",
       "</div>"
      ],
      "text/plain": [
       "            Station       entries         exits  entries_change  exits_change  \\\n",
       "366  W 4 ST-WASH SQ  1.322984e+07  5.545697e+06      436.171053    204.473684   \n",
       "18   14 ST-UNION SQ  9.977501e+06  4.182393e+06      381.853659    160.993902   \n",
       "109           8 AVE  8.136542e+06  5.105369e+06      368.388889    177.750000   \n",
       "379         YORK ST  8.108152e+06  7.698871e+06      352.333333    193.083333   \n",
       "123     ASTOR PLACE  4.385038e+06  1.780139e+06      216.291667    113.458333   \n",
       "\n",
       "       busyness  \n",
       "366  640.644737  \n",
       "18   542.847561  \n",
       "109  546.138889  \n",
       "379  545.416667  \n",
       "123  329.750000  "
      ]
     },
     "execution_count": 36,
     "metadata": {},
     "output_type": "execute_result"
    }
   ],
   "source": [
    "july_fri.groupby('Station').mean().reset_index().sort_values('entries_change', ascending = False).head()"
   ]
  },
  {
   "cell_type": "markdown",
   "metadata": {
    "collapsed": false
   },
   "source": [
    "##### Q5 Answer\n",
    "W 4 ST-WASH SQ station had the highest average number of entries,436, between midnight & 4am on Fridays in July 2013"
   ]
  },
  {
   "cell_type": "code",
   "execution_count": null,
   "metadata": {
    "collapsed": true
   },
   "outputs": [],
   "source": []
  }
 ],
 "metadata": {
  "anaconda-cloud": {},
  "kernelspec": {
   "display_name": "Python [Root]",
   "language": "python",
   "name": "Python [Root]"
  },
  "language_info": {
   "codemirror_mode": {
    "name": "ipython",
    "version": 3
   },
   "file_extension": ".py",
   "mimetype": "text/x-python",
   "name": "python",
   "nbconvert_exporter": "python",
   "pygments_lexer": "ipython3",
   "version": "3.5.2"
  }
 },
 "nbformat": 4,
 "nbformat_minor": 0
}
